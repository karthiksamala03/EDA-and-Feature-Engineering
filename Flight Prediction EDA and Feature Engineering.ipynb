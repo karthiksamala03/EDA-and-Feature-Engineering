{
 "cells": [
  {
   "cell_type": "markdown",
   "id": "2c3e9d6d",
   "metadata": {},
   "source": [
    "# Flight Price Prediction - EDA and Feature Engineering"
   ]
  },
  {
   "cell_type": "code",
   "execution_count": 1,
   "id": "58b58d2b",
   "metadata": {},
   "outputs": [],
   "source": [
    "# import basic libraries\n",
    "\n",
    "import pandas as pd\n",
    "import numpy as np\n",
    "import matplotlib.pyplot as plt\n",
    "import seaborn as sns\n",
    "%matplotlib inline\n"
   ]
  },
  {
   "cell_type": "code",
   "execution_count": 2,
   "id": "c5c1d433",
   "metadata": {},
   "outputs": [
    {
     "data": {
      "text/plain": [
       "(Index(['Airline', 'Date_of_Journey', 'Source', 'Destination', 'Route',\n",
       "        'Dep_Time', 'Arrival_Time', 'Duration', 'Total_Stops',\n",
       "        'Additional_Info', 'Price'],\n",
       "       dtype='object'),\n",
       " (10683, 11))"
      ]
     },
     "execution_count": 2,
     "metadata": {},
     "output_type": "execute_result"
    }
   ],
   "source": [
    "train_df = pd.read_excel(\"Flight Prediction/Data_Train.xlsx\")\n",
    "train_df.columns, train_df.shape"
   ]
  },
  {
   "cell_type": "code",
   "execution_count": 3,
   "id": "7302b736",
   "metadata": {},
   "outputs": [
    {
     "data": {
      "text/plain": [
       "(Index(['Airline', 'Date_of_Journey', 'Source', 'Destination', 'Route',\n",
       "        'Dep_Time', 'Arrival_Time', 'Duration', 'Total_Stops',\n",
       "        'Additional_Info'],\n",
       "       dtype='object'),\n",
       " (2671, 10))"
      ]
     },
     "execution_count": 3,
     "metadata": {},
     "output_type": "execute_result"
    }
   ],
   "source": [
    "test_df = pd.read_excel(\"Flight Prediction/Test_set.xlsx\")\n",
    "test_df.columns, test_df.shape"
   ]
  },
  {
   "cell_type": "code",
   "execution_count": 4,
   "id": "f8cc1306",
   "metadata": {},
   "outputs": [],
   "source": [
    "df = pd.concat([train_df,test_df],axis=0)"
   ]
  },
  {
   "cell_type": "code",
   "execution_count": 5,
   "id": "19c40251",
   "metadata": {},
   "outputs": [
    {
     "data": {
      "text/plain": [
       "(13354, 11)"
      ]
     },
     "execution_count": 5,
     "metadata": {},
     "output_type": "execute_result"
    }
   ],
   "source": [
    "df.shape"
   ]
  },
  {
   "cell_type": "code",
   "execution_count": 6,
   "id": "6aff6ad4",
   "metadata": {},
   "outputs": [
    {
     "name": "stdout",
     "output_type": "stream",
     "text": [
      "<class 'pandas.core.frame.DataFrame'>\n",
      "Int64Index: 13354 entries, 0 to 2670\n",
      "Data columns (total 11 columns):\n",
      " #   Column           Non-Null Count  Dtype  \n",
      "---  ------           --------------  -----  \n",
      " 0   Airline          13354 non-null  object \n",
      " 1   Date_of_Journey  13354 non-null  object \n",
      " 2   Source           13354 non-null  object \n",
      " 3   Destination      13354 non-null  object \n",
      " 4   Route            13353 non-null  object \n",
      " 5   Dep_Time         13354 non-null  object \n",
      " 6   Arrival_Time     13354 non-null  object \n",
      " 7   Duration         13354 non-null  object \n",
      " 8   Total_Stops      13353 non-null  object \n",
      " 9   Additional_Info  13354 non-null  object \n",
      " 10  Price            10683 non-null  float64\n",
      "dtypes: float64(1), object(10)\n",
      "memory usage: 1.2+ MB\n"
     ]
    }
   ],
   "source": [
    "df.info()"
   ]
  },
  {
   "cell_type": "markdown",
   "id": "d824a4ce",
   "metadata": {},
   "source": [
    "##### will split Date_of_Journey column into 3 columns Date, Month, Year"
   ]
  },
  {
   "cell_type": "code",
   "execution_count": 7,
   "id": "62f58401",
   "metadata": {},
   "outputs": [],
   "source": [
    "# df['Date']=df.Date_of_Journey.str.split('/').str[0].astype(int)\n",
    "# df['Month']=df.Date_of_Journey.str.split('/').str[1].astype(int)\n",
    "# df['Year']=df.Date_of_Journey.str.split('/').str[2].astype(int)\n",
    "\n",
    "#OR\n",
    "\n",
    "df['Date']=df.Date_of_Journey.apply(lambda x:x.split('/')[0])\n",
    "df['Month']=df.Date_of_Journey.apply(lambda x:x.split('/')[1])\n",
    "df['Year']=df.Date_of_Journey.apply(lambda x:x.split('/')[2])\n",
    "\n",
    "df['Date']=df['Date'].astype(int)\n",
    "df['Month']=df['Month'].astype(int)\n",
    "df['Year']=df['Year'].astype(int)\n"
   ]
  },
  {
   "cell_type": "code",
   "execution_count": 8,
   "id": "47cdc025",
   "metadata": {},
   "outputs": [],
   "source": [
    "df.drop(columns='Date_of_Journey',inplace=True)"
   ]
  },
  {
   "cell_type": "code",
   "execution_count": 9,
   "id": "f31caed6",
   "metadata": {},
   "outputs": [
    {
     "data": {
      "text/html": [
       "<div>\n",
       "<style scoped>\n",
       "    .dataframe tbody tr th:only-of-type {\n",
       "        vertical-align: middle;\n",
       "    }\n",
       "\n",
       "    .dataframe tbody tr th {\n",
       "        vertical-align: top;\n",
       "    }\n",
       "\n",
       "    .dataframe thead th {\n",
       "        text-align: right;\n",
       "    }\n",
       "</style>\n",
       "<table border=\"1\" class=\"dataframe\">\n",
       "  <thead>\n",
       "    <tr style=\"text-align: right;\">\n",
       "      <th></th>\n",
       "      <th>Airline</th>\n",
       "      <th>Source</th>\n",
       "      <th>Destination</th>\n",
       "      <th>Route</th>\n",
       "      <th>Dep_Time</th>\n",
       "      <th>Arrival_Time</th>\n",
       "      <th>Duration</th>\n",
       "      <th>Total_Stops</th>\n",
       "      <th>Additional_Info</th>\n",
       "      <th>Price</th>\n",
       "      <th>Date</th>\n",
       "      <th>Month</th>\n",
       "      <th>Year</th>\n",
       "    </tr>\n",
       "  </thead>\n",
       "  <tbody>\n",
       "    <tr>\n",
       "      <th>0</th>\n",
       "      <td>IndiGo</td>\n",
       "      <td>Banglore</td>\n",
       "      <td>New Delhi</td>\n",
       "      <td>BLR → DEL</td>\n",
       "      <td>22:20</td>\n",
       "      <td>01:10 22 Mar</td>\n",
       "      <td>2h 50m</td>\n",
       "      <td>non-stop</td>\n",
       "      <td>No info</td>\n",
       "      <td>3897.0</td>\n",
       "      <td>24</td>\n",
       "      <td>3</td>\n",
       "      <td>2019</td>\n",
       "    </tr>\n",
       "    <tr>\n",
       "      <th>1</th>\n",
       "      <td>Air India</td>\n",
       "      <td>Kolkata</td>\n",
       "      <td>Banglore</td>\n",
       "      <td>CCU → IXR → BBI → BLR</td>\n",
       "      <td>05:50</td>\n",
       "      <td>13:15</td>\n",
       "      <td>7h 25m</td>\n",
       "      <td>2 stops</td>\n",
       "      <td>No info</td>\n",
       "      <td>7662.0</td>\n",
       "      <td>1</td>\n",
       "      <td>5</td>\n",
       "      <td>2019</td>\n",
       "    </tr>\n",
       "    <tr>\n",
       "      <th>2</th>\n",
       "      <td>Jet Airways</td>\n",
       "      <td>Delhi</td>\n",
       "      <td>Cochin</td>\n",
       "      <td>DEL → LKO → BOM → COK</td>\n",
       "      <td>09:25</td>\n",
       "      <td>04:25 10 Jun</td>\n",
       "      <td>19h</td>\n",
       "      <td>2 stops</td>\n",
       "      <td>No info</td>\n",
       "      <td>13882.0</td>\n",
       "      <td>9</td>\n",
       "      <td>6</td>\n",
       "      <td>2019</td>\n",
       "    </tr>\n",
       "    <tr>\n",
       "      <th>3</th>\n",
       "      <td>IndiGo</td>\n",
       "      <td>Kolkata</td>\n",
       "      <td>Banglore</td>\n",
       "      <td>CCU → NAG → BLR</td>\n",
       "      <td>18:05</td>\n",
       "      <td>23:30</td>\n",
       "      <td>5h 25m</td>\n",
       "      <td>1 stop</td>\n",
       "      <td>No info</td>\n",
       "      <td>6218.0</td>\n",
       "      <td>12</td>\n",
       "      <td>5</td>\n",
       "      <td>2019</td>\n",
       "    </tr>\n",
       "    <tr>\n",
       "      <th>4</th>\n",
       "      <td>IndiGo</td>\n",
       "      <td>Banglore</td>\n",
       "      <td>New Delhi</td>\n",
       "      <td>BLR → NAG → DEL</td>\n",
       "      <td>16:50</td>\n",
       "      <td>21:35</td>\n",
       "      <td>4h 45m</td>\n",
       "      <td>1 stop</td>\n",
       "      <td>No info</td>\n",
       "      <td>13302.0</td>\n",
       "      <td>1</td>\n",
       "      <td>3</td>\n",
       "      <td>2019</td>\n",
       "    </tr>\n",
       "  </tbody>\n",
       "</table>\n",
       "</div>"
      ],
      "text/plain": [
       "       Airline    Source Destination                  Route Dep_Time  \\\n",
       "0       IndiGo  Banglore   New Delhi              BLR → DEL    22:20   \n",
       "1    Air India   Kolkata    Banglore  CCU → IXR → BBI → BLR    05:50   \n",
       "2  Jet Airways     Delhi      Cochin  DEL → LKO → BOM → COK    09:25   \n",
       "3       IndiGo   Kolkata    Banglore        CCU → NAG → BLR    18:05   \n",
       "4       IndiGo  Banglore   New Delhi        BLR → NAG → DEL    16:50   \n",
       "\n",
       "   Arrival_Time Duration Total_Stops Additional_Info    Price  Date  Month  \\\n",
       "0  01:10 22 Mar   2h 50m    non-stop         No info   3897.0    24      3   \n",
       "1         13:15   7h 25m     2 stops         No info   7662.0     1      5   \n",
       "2  04:25 10 Jun      19h     2 stops         No info  13882.0     9      6   \n",
       "3         23:30   5h 25m      1 stop         No info   6218.0    12      5   \n",
       "4         21:35   4h 45m      1 stop         No info  13302.0     1      3   \n",
       "\n",
       "   Year  \n",
       "0  2019  \n",
       "1  2019  \n",
       "2  2019  \n",
       "3  2019  \n",
       "4  2019  "
      ]
     },
     "execution_count": 9,
     "metadata": {},
     "output_type": "execute_result"
    }
   ],
   "source": [
    "df.head()"
   ]
  },
  {
   "cell_type": "markdown",
   "id": "2e219082",
   "metadata": {},
   "source": [
    "##### Arrival time : will take only time not Date is not required"
   ]
  },
  {
   "cell_type": "code",
   "execution_count": 10,
   "id": "112a19c2",
   "metadata": {},
   "outputs": [],
   "source": [
    "df['arr_hour']=df.Arrival_Time.apply(lambda x:x.split(' ')[0].split(':')[0])\n",
    "df['arr_min']=df.Arrival_Time.apply(lambda x:x.split(' ')[0].split(':')[1])"
   ]
  },
  {
   "cell_type": "code",
   "execution_count": 11,
   "id": "fc9a43ab",
   "metadata": {},
   "outputs": [],
   "source": [
    "df['arr_hour']=df['arr_hour'].astype(int)\n",
    "df['arr_min']=df['arr_min'].astype(int)"
   ]
  },
  {
   "cell_type": "code",
   "execution_count": 12,
   "id": "98bc39bb",
   "metadata": {},
   "outputs": [],
   "source": [
    "df.drop(columns='Arrival_Time',inplace=True)"
   ]
  },
  {
   "cell_type": "code",
   "execution_count": 13,
   "id": "b4f406e5",
   "metadata": {},
   "outputs": [
    {
     "data": {
      "text/html": [
       "<div>\n",
       "<style scoped>\n",
       "    .dataframe tbody tr th:only-of-type {\n",
       "        vertical-align: middle;\n",
       "    }\n",
       "\n",
       "    .dataframe tbody tr th {\n",
       "        vertical-align: top;\n",
       "    }\n",
       "\n",
       "    .dataframe thead th {\n",
       "        text-align: right;\n",
       "    }\n",
       "</style>\n",
       "<table border=\"1\" class=\"dataframe\">\n",
       "  <thead>\n",
       "    <tr style=\"text-align: right;\">\n",
       "      <th></th>\n",
       "      <th>Airline</th>\n",
       "      <th>Source</th>\n",
       "      <th>Destination</th>\n",
       "      <th>Route</th>\n",
       "      <th>Dep_Time</th>\n",
       "      <th>Duration</th>\n",
       "      <th>Total_Stops</th>\n",
       "      <th>Additional_Info</th>\n",
       "      <th>Price</th>\n",
       "      <th>Date</th>\n",
       "      <th>Month</th>\n",
       "      <th>Year</th>\n",
       "      <th>arr_hour</th>\n",
       "      <th>arr_min</th>\n",
       "    </tr>\n",
       "  </thead>\n",
       "  <tbody>\n",
       "    <tr>\n",
       "      <th>0</th>\n",
       "      <td>IndiGo</td>\n",
       "      <td>Banglore</td>\n",
       "      <td>New Delhi</td>\n",
       "      <td>BLR → DEL</td>\n",
       "      <td>22:20</td>\n",
       "      <td>2h 50m</td>\n",
       "      <td>non-stop</td>\n",
       "      <td>No info</td>\n",
       "      <td>3897.0</td>\n",
       "      <td>24</td>\n",
       "      <td>3</td>\n",
       "      <td>2019</td>\n",
       "      <td>1</td>\n",
       "      <td>10</td>\n",
       "    </tr>\n",
       "    <tr>\n",
       "      <th>1</th>\n",
       "      <td>Air India</td>\n",
       "      <td>Kolkata</td>\n",
       "      <td>Banglore</td>\n",
       "      <td>CCU → IXR → BBI → BLR</td>\n",
       "      <td>05:50</td>\n",
       "      <td>7h 25m</td>\n",
       "      <td>2 stops</td>\n",
       "      <td>No info</td>\n",
       "      <td>7662.0</td>\n",
       "      <td>1</td>\n",
       "      <td>5</td>\n",
       "      <td>2019</td>\n",
       "      <td>13</td>\n",
       "      <td>15</td>\n",
       "    </tr>\n",
       "    <tr>\n",
       "      <th>2</th>\n",
       "      <td>Jet Airways</td>\n",
       "      <td>Delhi</td>\n",
       "      <td>Cochin</td>\n",
       "      <td>DEL → LKO → BOM → COK</td>\n",
       "      <td>09:25</td>\n",
       "      <td>19h</td>\n",
       "      <td>2 stops</td>\n",
       "      <td>No info</td>\n",
       "      <td>13882.0</td>\n",
       "      <td>9</td>\n",
       "      <td>6</td>\n",
       "      <td>2019</td>\n",
       "      <td>4</td>\n",
       "      <td>25</td>\n",
       "    </tr>\n",
       "    <tr>\n",
       "      <th>3</th>\n",
       "      <td>IndiGo</td>\n",
       "      <td>Kolkata</td>\n",
       "      <td>Banglore</td>\n",
       "      <td>CCU → NAG → BLR</td>\n",
       "      <td>18:05</td>\n",
       "      <td>5h 25m</td>\n",
       "      <td>1 stop</td>\n",
       "      <td>No info</td>\n",
       "      <td>6218.0</td>\n",
       "      <td>12</td>\n",
       "      <td>5</td>\n",
       "      <td>2019</td>\n",
       "      <td>23</td>\n",
       "      <td>30</td>\n",
       "    </tr>\n",
       "    <tr>\n",
       "      <th>4</th>\n",
       "      <td>IndiGo</td>\n",
       "      <td>Banglore</td>\n",
       "      <td>New Delhi</td>\n",
       "      <td>BLR → NAG → DEL</td>\n",
       "      <td>16:50</td>\n",
       "      <td>4h 45m</td>\n",
       "      <td>1 stop</td>\n",
       "      <td>No info</td>\n",
       "      <td>13302.0</td>\n",
       "      <td>1</td>\n",
       "      <td>3</td>\n",
       "      <td>2019</td>\n",
       "      <td>21</td>\n",
       "      <td>35</td>\n",
       "    </tr>\n",
       "  </tbody>\n",
       "</table>\n",
       "</div>"
      ],
      "text/plain": [
       "       Airline    Source Destination                  Route Dep_Time Duration  \\\n",
       "0       IndiGo  Banglore   New Delhi              BLR → DEL    22:20   2h 50m   \n",
       "1    Air India   Kolkata    Banglore  CCU → IXR → BBI → BLR    05:50   7h 25m   \n",
       "2  Jet Airways     Delhi      Cochin  DEL → LKO → BOM → COK    09:25      19h   \n",
       "3       IndiGo   Kolkata    Banglore        CCU → NAG → BLR    18:05   5h 25m   \n",
       "4       IndiGo  Banglore   New Delhi        BLR → NAG → DEL    16:50   4h 45m   \n",
       "\n",
       "  Total_Stops Additional_Info    Price  Date  Month  Year  arr_hour  arr_min  \n",
       "0    non-stop         No info   3897.0    24      3  2019         1       10  \n",
       "1     2 stops         No info   7662.0     1      5  2019        13       15  \n",
       "2     2 stops         No info  13882.0     9      6  2019         4       25  \n",
       "3      1 stop         No info   6218.0    12      5  2019        23       30  \n",
       "4      1 stop         No info  13302.0     1      3  2019        21       35  "
      ]
     },
     "execution_count": 13,
     "metadata": {},
     "output_type": "execute_result"
    }
   ],
   "source": [
    "df.head()"
   ]
  },
  {
   "cell_type": "markdown",
   "id": "8c43ba48",
   "metadata": {},
   "source": [
    "##### Will apply same logic to departure time"
   ]
  },
  {
   "cell_type": "code",
   "execution_count": 14,
   "id": "1976f151",
   "metadata": {},
   "outputs": [],
   "source": [
    "df['Dep_Hour']=df['Dep_Time'].apply(lambda x:x.split(':')[0])\n",
    "df['Dep_Min']=df['Dep_Time'].apply(lambda x:x.split(':')[1])"
   ]
  },
  {
   "cell_type": "code",
   "execution_count": 15,
   "id": "87646d9e",
   "metadata": {},
   "outputs": [],
   "source": [
    "df['Dep_Hour']=df['Dep_Hour'].astype(int)\n",
    "df['Dep_Min']=df['Dep_Min'].astype(int)"
   ]
  },
  {
   "cell_type": "code",
   "execution_count": 16,
   "id": "15f2cdbb",
   "metadata": {},
   "outputs": [],
   "source": [
    "df.drop(columns='Dep_Time',inplace=True)"
   ]
  },
  {
   "cell_type": "code",
   "execution_count": 17,
   "id": "f47db51d",
   "metadata": {},
   "outputs": [
    {
     "data": {
      "text/html": [
       "<div>\n",
       "<style scoped>\n",
       "    .dataframe tbody tr th:only-of-type {\n",
       "        vertical-align: middle;\n",
       "    }\n",
       "\n",
       "    .dataframe tbody tr th {\n",
       "        vertical-align: top;\n",
       "    }\n",
       "\n",
       "    .dataframe thead th {\n",
       "        text-align: right;\n",
       "    }\n",
       "</style>\n",
       "<table border=\"1\" class=\"dataframe\">\n",
       "  <thead>\n",
       "    <tr style=\"text-align: right;\">\n",
       "      <th></th>\n",
       "      <th>Airline</th>\n",
       "      <th>Source</th>\n",
       "      <th>Destination</th>\n",
       "      <th>Route</th>\n",
       "      <th>Duration</th>\n",
       "      <th>Total_Stops</th>\n",
       "      <th>Additional_Info</th>\n",
       "      <th>Price</th>\n",
       "      <th>Date</th>\n",
       "      <th>Month</th>\n",
       "      <th>Year</th>\n",
       "      <th>arr_hour</th>\n",
       "      <th>arr_min</th>\n",
       "      <th>Dep_Hour</th>\n",
       "      <th>Dep_Min</th>\n",
       "    </tr>\n",
       "  </thead>\n",
       "  <tbody>\n",
       "    <tr>\n",
       "      <th>0</th>\n",
       "      <td>IndiGo</td>\n",
       "      <td>Banglore</td>\n",
       "      <td>New Delhi</td>\n",
       "      <td>BLR → DEL</td>\n",
       "      <td>2h 50m</td>\n",
       "      <td>non-stop</td>\n",
       "      <td>No info</td>\n",
       "      <td>3897.0</td>\n",
       "      <td>24</td>\n",
       "      <td>3</td>\n",
       "      <td>2019</td>\n",
       "      <td>1</td>\n",
       "      <td>10</td>\n",
       "      <td>22</td>\n",
       "      <td>20</td>\n",
       "    </tr>\n",
       "    <tr>\n",
       "      <th>1</th>\n",
       "      <td>Air India</td>\n",
       "      <td>Kolkata</td>\n",
       "      <td>Banglore</td>\n",
       "      <td>CCU → IXR → BBI → BLR</td>\n",
       "      <td>7h 25m</td>\n",
       "      <td>2 stops</td>\n",
       "      <td>No info</td>\n",
       "      <td>7662.0</td>\n",
       "      <td>1</td>\n",
       "      <td>5</td>\n",
       "      <td>2019</td>\n",
       "      <td>13</td>\n",
       "      <td>15</td>\n",
       "      <td>5</td>\n",
       "      <td>50</td>\n",
       "    </tr>\n",
       "    <tr>\n",
       "      <th>2</th>\n",
       "      <td>Jet Airways</td>\n",
       "      <td>Delhi</td>\n",
       "      <td>Cochin</td>\n",
       "      <td>DEL → LKO → BOM → COK</td>\n",
       "      <td>19h</td>\n",
       "      <td>2 stops</td>\n",
       "      <td>No info</td>\n",
       "      <td>13882.0</td>\n",
       "      <td>9</td>\n",
       "      <td>6</td>\n",
       "      <td>2019</td>\n",
       "      <td>4</td>\n",
       "      <td>25</td>\n",
       "      <td>9</td>\n",
       "      <td>25</td>\n",
       "    </tr>\n",
       "    <tr>\n",
       "      <th>3</th>\n",
       "      <td>IndiGo</td>\n",
       "      <td>Kolkata</td>\n",
       "      <td>Banglore</td>\n",
       "      <td>CCU → NAG → BLR</td>\n",
       "      <td>5h 25m</td>\n",
       "      <td>1 stop</td>\n",
       "      <td>No info</td>\n",
       "      <td>6218.0</td>\n",
       "      <td>12</td>\n",
       "      <td>5</td>\n",
       "      <td>2019</td>\n",
       "      <td>23</td>\n",
       "      <td>30</td>\n",
       "      <td>18</td>\n",
       "      <td>5</td>\n",
       "    </tr>\n",
       "    <tr>\n",
       "      <th>4</th>\n",
       "      <td>IndiGo</td>\n",
       "      <td>Banglore</td>\n",
       "      <td>New Delhi</td>\n",
       "      <td>BLR → NAG → DEL</td>\n",
       "      <td>4h 45m</td>\n",
       "      <td>1 stop</td>\n",
       "      <td>No info</td>\n",
       "      <td>13302.0</td>\n",
       "      <td>1</td>\n",
       "      <td>3</td>\n",
       "      <td>2019</td>\n",
       "      <td>21</td>\n",
       "      <td>35</td>\n",
       "      <td>16</td>\n",
       "      <td>50</td>\n",
       "    </tr>\n",
       "  </tbody>\n",
       "</table>\n",
       "</div>"
      ],
      "text/plain": [
       "       Airline    Source Destination                  Route Duration  \\\n",
       "0       IndiGo  Banglore   New Delhi              BLR → DEL   2h 50m   \n",
       "1    Air India   Kolkata    Banglore  CCU → IXR → BBI → BLR   7h 25m   \n",
       "2  Jet Airways     Delhi      Cochin  DEL → LKO → BOM → COK      19h   \n",
       "3       IndiGo   Kolkata    Banglore        CCU → NAG → BLR   5h 25m   \n",
       "4       IndiGo  Banglore   New Delhi        BLR → NAG → DEL   4h 45m   \n",
       "\n",
       "  Total_Stops Additional_Info    Price  Date  Month  Year  arr_hour  arr_min  \\\n",
       "0    non-stop         No info   3897.0    24      3  2019         1       10   \n",
       "1     2 stops         No info   7662.0     1      5  2019        13       15   \n",
       "2     2 stops         No info  13882.0     9      6  2019         4       25   \n",
       "3      1 stop         No info   6218.0    12      5  2019        23       30   \n",
       "4      1 stop         No info  13302.0     1      3  2019        21       35   \n",
       "\n",
       "   Dep_Hour  Dep_Min  \n",
       "0        22       20  \n",
       "1         5       50  \n",
       "2         9       25  \n",
       "3        18        5  \n",
       "4        16       50  "
      ]
     },
     "execution_count": 17,
     "metadata": {},
     "output_type": "execute_result"
    }
   ],
   "source": [
    "df.head()"
   ]
  },
  {
   "cell_type": "markdown",
   "id": "20d54b6d",
   "metadata": {},
   "source": [
    "##### Missing values"
   ]
  },
  {
   "cell_type": "code",
   "execution_count": 18,
   "id": "e8a3d83f",
   "metadata": {},
   "outputs": [
    {
     "data": {
      "text/plain": [
       "Airline               0\n",
       "Source                0\n",
       "Destination           0\n",
       "Route                 1\n",
       "Duration              0\n",
       "Total_Stops           1\n",
       "Additional_Info       0\n",
       "Price              2671\n",
       "Date                  0\n",
       "Month                 0\n",
       "Year                  0\n",
       "arr_hour              0\n",
       "arr_min               0\n",
       "Dep_Hour              0\n",
       "Dep_Min               0\n",
       "dtype: int64"
      ]
     },
     "execution_count": 18,
     "metadata": {},
     "output_type": "execute_result"
    }
   ],
   "source": [
    "df.isnull().sum()"
   ]
  },
  {
   "cell_type": "code",
   "execution_count": 19,
   "id": "d9ea7e49",
   "metadata": {},
   "outputs": [
    {
     "data": {
      "text/html": [
       "<div>\n",
       "<style scoped>\n",
       "    .dataframe tbody tr th:only-of-type {\n",
       "        vertical-align: middle;\n",
       "    }\n",
       "\n",
       "    .dataframe tbody tr th {\n",
       "        vertical-align: top;\n",
       "    }\n",
       "\n",
       "    .dataframe thead th {\n",
       "        text-align: right;\n",
       "    }\n",
       "</style>\n",
       "<table border=\"1\" class=\"dataframe\">\n",
       "  <thead>\n",
       "    <tr style=\"text-align: right;\">\n",
       "      <th></th>\n",
       "      <th>Airline</th>\n",
       "      <th>Source</th>\n",
       "      <th>Destination</th>\n",
       "      <th>Route</th>\n",
       "      <th>Duration</th>\n",
       "      <th>Total_Stops</th>\n",
       "      <th>Additional_Info</th>\n",
       "      <th>Price</th>\n",
       "      <th>Date</th>\n",
       "      <th>Month</th>\n",
       "      <th>Year</th>\n",
       "      <th>arr_hour</th>\n",
       "      <th>arr_min</th>\n",
       "      <th>Dep_Hour</th>\n",
       "      <th>Dep_Min</th>\n",
       "    </tr>\n",
       "  </thead>\n",
       "  <tbody>\n",
       "    <tr>\n",
       "      <th>9039</th>\n",
       "      <td>Air India</td>\n",
       "      <td>Delhi</td>\n",
       "      <td>Cochin</td>\n",
       "      <td>NaN</td>\n",
       "      <td>23h 40m</td>\n",
       "      <td>NaN</td>\n",
       "      <td>No info</td>\n",
       "      <td>7480.0</td>\n",
       "      <td>6</td>\n",
       "      <td>5</td>\n",
       "      <td>2019</td>\n",
       "      <td>9</td>\n",
       "      <td>25</td>\n",
       "      <td>9</td>\n",
       "      <td>45</td>\n",
       "    </tr>\n",
       "  </tbody>\n",
       "</table>\n",
       "</div>"
      ],
      "text/plain": [
       "        Airline Source Destination Route Duration Total_Stops Additional_Info  \\\n",
       "9039  Air India  Delhi      Cochin   NaN  23h 40m         NaN         No info   \n",
       "\n",
       "       Price  Date  Month  Year  arr_hour  arr_min  Dep_Hour  Dep_Min  \n",
       "9039  7480.0     6      5  2019         9       25         9       45  "
      ]
     },
     "execution_count": 19,
     "metadata": {},
     "output_type": "execute_result"
    }
   ],
   "source": [
    "df[df['Route'].isnull()]"
   ]
  },
  {
   "cell_type": "code",
   "execution_count": 20,
   "id": "19c7e3c2",
   "metadata": {},
   "outputs": [
    {
     "data": {
      "text/plain": [
       "1 stop      4015\n",
       "2 stops     1373\n",
       "non-stop     262\n",
       "3 stops       31\n",
       "Name: Total_Stops, dtype: int64"
      ]
     },
     "execution_count": 20,
     "metadata": {},
     "output_type": "execute_result"
    }
   ],
   "source": [
    "df[(df['Source']=='Delhi') & (df['Destination']=='Cochin')].Total_Stops.value_counts()"
   ]
  },
  {
   "cell_type": "markdown",
   "id": "d50c2313",
   "metadata": {},
   "source": [
    "1. We have 1 missing value in Route and Total_Stops\n",
    "2. From Delhi to Cochin we have all types of stops\n",
    "3. Based on Duration=23h 40m we can take it 3 stops\n",
    "4. So we can replace with Total stops=3 for Null\n",
    "5. even we can drop the record because we have only one record with null value"
   ]
  },
  {
   "cell_type": "code",
   "execution_count": 69,
   "id": "6868c5bc",
   "metadata": {},
   "outputs": [
    {
     "data": {
      "text/plain": [
       "Total_Stops                                         2.0\n",
       "Price                                           13882.0\n",
       "Date                                                9.0\n",
       "Month                                               6.0\n",
       "Year                                             2019.0\n",
       "arr_hour                                            4.0\n",
       "arr_min                                            25.0\n",
       "Dep_Hour                                            9.0\n",
       "Dep_Min                                            25.0\n",
       "Duration_new                                     1140.0\n",
       "Airline_Air India                                   0.0\n",
       "Airline_GoAir                                       0.0\n",
       "Airline_IndiGo                                      0.0\n",
       "Airline_Jet Airways                                 1.0\n",
       "Airline_Jet Airways Business                        0.0\n",
       "Airline_Multiple carriers                           0.0\n",
       "Airline_Multiple carriers Premium economy           0.0\n",
       "Airline_SpiceJet                                    0.0\n",
       "Airline_Trujet                                      0.0\n",
       "Airline_Vistara                                     0.0\n",
       "Airline_Vistara Premium economy                     0.0\n",
       "Source_Chennai                                      0.0\n",
       "Source_Delhi                                        1.0\n",
       "Source_Kolkata                                      0.0\n",
       "Source_Mumbai                                       0.0\n",
       "Destination_Cochin                                  1.0\n",
       "Destination_Delhi                                   0.0\n",
       "Destination_Hyderabad                               0.0\n",
       "Destination_Kolkata                                 0.0\n",
       "Destination_New Delhi                               0.0\n",
       "Additional_Info_1 Short layover                     0.0\n",
       "Additional_Info_2 Long layover                      0.0\n",
       "Additional_Info_Business class                      0.0\n",
       "Additional_Info_Change airports                     0.0\n",
       "Additional_Info_In-flight meal not included         0.0\n",
       "Additional_Info_No check-in baggage included        0.0\n",
       "Additional_Info_No info                             1.0\n",
       "Additional_Info_Red-eye flight                      0.0\n",
       "Name: 2, dtype: float64"
      ]
     },
     "execution_count": 69,
     "metadata": {},
     "output_type": "execute_result"
    }
   ],
   "source": [
    "df.iloc[9039:]"
   ]
  },
  {
   "cell_type": "code",
   "execution_count": 21,
   "id": "d2011452",
   "metadata": {},
   "outputs": [
    {
     "data": {
      "text/plain": [
       "array(['non-stop', '2 stops', '1 stop', '3 stops', nan, '4 stops'],\n",
       "      dtype=object)"
      ]
     },
     "execution_count": 21,
     "metadata": {},
     "output_type": "execute_result"
    }
   ],
   "source": [
    "df['Total_Stops'].unique()"
   ]
  },
  {
   "cell_type": "code",
   "execution_count": 22,
   "id": "6a42684a",
   "metadata": {},
   "outputs": [],
   "source": [
    "df['Total_Stops']=df['Total_Stops'].map({'non-stop':0, '2 stops':2, '1 stop':1, '3 stops':3, 'nan':3, '4 stops':4})"
   ]
  },
  {
   "cell_type": "code",
   "execution_count": 23,
   "id": "57334c12",
   "metadata": {},
   "outputs": [],
   "source": [
    "df['Total_Stops']=df['Total_Stops'].fillna(3)"
   ]
  },
  {
   "cell_type": "code",
   "execution_count": 24,
   "id": "b8c469d3",
   "metadata": {},
   "outputs": [],
   "source": [
    "df.drop(columns='Route',inplace=True)"
   ]
  },
  {
   "cell_type": "code",
   "execution_count": 25,
   "id": "9f241051",
   "metadata": {},
   "outputs": [
    {
     "name": "stdout",
     "output_type": "stream",
     "text": [
      "<class 'pandas.core.frame.DataFrame'>\n",
      "Int64Index: 13354 entries, 0 to 2670\n",
      "Data columns (total 14 columns):\n",
      " #   Column           Non-Null Count  Dtype  \n",
      "---  ------           --------------  -----  \n",
      " 0   Airline          13354 non-null  object \n",
      " 1   Source           13354 non-null  object \n",
      " 2   Destination      13354 non-null  object \n",
      " 3   Duration         13354 non-null  object \n",
      " 4   Total_Stops      13354 non-null  float64\n",
      " 5   Additional_Info  13354 non-null  object \n",
      " 6   Price            10683 non-null  float64\n",
      " 7   Date             13354 non-null  int32  \n",
      " 8   Month            13354 non-null  int32  \n",
      " 9   Year             13354 non-null  int32  \n",
      " 10  arr_hour         13354 non-null  int32  \n",
      " 11  arr_min          13354 non-null  int32  \n",
      " 12  Dep_Hour         13354 non-null  int32  \n",
      " 13  Dep_Min          13354 non-null  int32  \n",
      "dtypes: float64(2), int32(7), object(5)\n",
      "memory usage: 1.2+ MB\n"
     ]
    }
   ],
   "source": [
    "df.info()"
   ]
  },
  {
   "cell_type": "markdown",
   "id": "fc2d8c47",
   "metadata": {},
   "source": [
    "1. Route and Total_stops give same information. will drop Route column"
   ]
  },
  {
   "cell_type": "markdown",
   "id": "cb7e4921",
   "metadata": {},
   "source": [
    "##### Will convert Hours and Minutes Duration column in single values minutes"
   ]
  },
  {
   "cell_type": "code",
   "execution_count": 26,
   "id": "e0dc66c6",
   "metadata": {},
   "outputs": [
    {
     "data": {
      "text/plain": [
       "0        2h 50m\n",
       "1        7h 25m\n",
       "2           19h\n",
       "3        5h 25m\n",
       "4        4h 45m\n",
       "         ...   \n",
       "2666    23h 55m\n",
       "2667     2h 35m\n",
       "2668     6h 35m\n",
       "2669    15h 15m\n",
       "2670    14h 20m\n",
       "Name: Duration, Length: 13354, dtype: object"
      ]
     },
     "execution_count": 26,
     "metadata": {},
     "output_type": "execute_result"
    }
   ],
   "source": [
    "df['Duration']"
   ]
  },
  {
   "cell_type": "code",
   "execution_count": 70,
   "id": "e6a25679",
   "metadata": {},
   "outputs": [
    {
     "ename": "KeyError",
     "evalue": "'Duration'",
     "output_type": "error",
     "traceback": [
      "\u001b[1;31m---------------------------------------------------------------------------\u001b[0m",
      "\u001b[1;31mKeyError\u001b[0m                                  Traceback (most recent call last)",
      "File \u001b[1;32m~\\anaconda3\\lib\\site-packages\\pandas\\core\\indexes\\base.py:3621\u001b[0m, in \u001b[0;36mIndex.get_loc\u001b[1;34m(self, key, method, tolerance)\u001b[0m\n\u001b[0;32m   3620\u001b[0m \u001b[38;5;28;01mtry\u001b[39;00m:\n\u001b[1;32m-> 3621\u001b[0m     \u001b[38;5;28;01mreturn\u001b[39;00m \u001b[38;5;28;43mself\u001b[39;49m\u001b[38;5;241;43m.\u001b[39;49m\u001b[43m_engine\u001b[49m\u001b[38;5;241;43m.\u001b[39;49m\u001b[43mget_loc\u001b[49m\u001b[43m(\u001b[49m\u001b[43mcasted_key\u001b[49m\u001b[43m)\u001b[49m\n\u001b[0;32m   3622\u001b[0m \u001b[38;5;28;01mexcept\u001b[39;00m \u001b[38;5;167;01mKeyError\u001b[39;00m \u001b[38;5;28;01mas\u001b[39;00m err:\n",
      "File \u001b[1;32m~\\anaconda3\\lib\\site-packages\\pandas\\_libs\\index.pyx:136\u001b[0m, in \u001b[0;36mpandas._libs.index.IndexEngine.get_loc\u001b[1;34m()\u001b[0m\n",
      "File \u001b[1;32m~\\anaconda3\\lib\\site-packages\\pandas\\_libs\\index.pyx:163\u001b[0m, in \u001b[0;36mpandas._libs.index.IndexEngine.get_loc\u001b[1;34m()\u001b[0m\n",
      "File \u001b[1;32mpandas\\_libs\\hashtable_class_helper.pxi:5198\u001b[0m, in \u001b[0;36mpandas._libs.hashtable.PyObjectHashTable.get_item\u001b[1;34m()\u001b[0m\n",
      "File \u001b[1;32mpandas\\_libs\\hashtable_class_helper.pxi:5206\u001b[0m, in \u001b[0;36mpandas._libs.hashtable.PyObjectHashTable.get_item\u001b[1;34m()\u001b[0m\n",
      "\u001b[1;31mKeyError\u001b[0m: 'Duration'",
      "\nThe above exception was the direct cause of the following exception:\n",
      "\u001b[1;31mKeyError\u001b[0m                                  Traceback (most recent call last)",
      "Input \u001b[1;32mIn [70]\u001b[0m, in \u001b[0;36m<cell line: 1>\u001b[1;34m()\u001b[0m\n\u001b[1;32m----> 1\u001b[0m df[\u001b[38;5;124m'\u001b[39m\u001b[38;5;124mDuration_Hour\u001b[39m\u001b[38;5;124m'\u001b[39m]\u001b[38;5;241m=\u001b[39m\u001b[43mdf\u001b[49m\u001b[43m[\u001b[49m\u001b[38;5;124;43m'\u001b[39;49m\u001b[38;5;124;43mDuration\u001b[39;49m\u001b[38;5;124;43m'\u001b[39;49m\u001b[43m]\u001b[49m\u001b[38;5;241m.\u001b[39mstr\u001b[38;5;241m.\u001b[39msplit(\u001b[38;5;124m'\u001b[39m\u001b[38;5;124m \u001b[39m\u001b[38;5;124m'\u001b[39m)\u001b[38;5;241m.\u001b[39mstr[\u001b[38;5;241m0\u001b[39m]\u001b[38;5;241m.\u001b[39mstr\u001b[38;5;241m.\u001b[39msplit(\u001b[38;5;124m'\u001b[39m\u001b[38;5;124mh\u001b[39m\u001b[38;5;124m'\u001b[39m)\u001b[38;5;241m.\u001b[39mstr[\u001b[38;5;241m0\u001b[39m]\n",
      "File \u001b[1;32m~\\anaconda3\\lib\\site-packages\\pandas\\core\\frame.py:3505\u001b[0m, in \u001b[0;36mDataFrame.__getitem__\u001b[1;34m(self, key)\u001b[0m\n\u001b[0;32m   3503\u001b[0m \u001b[38;5;28;01mif\u001b[39;00m \u001b[38;5;28mself\u001b[39m\u001b[38;5;241m.\u001b[39mcolumns\u001b[38;5;241m.\u001b[39mnlevels \u001b[38;5;241m>\u001b[39m \u001b[38;5;241m1\u001b[39m:\n\u001b[0;32m   3504\u001b[0m     \u001b[38;5;28;01mreturn\u001b[39;00m \u001b[38;5;28mself\u001b[39m\u001b[38;5;241m.\u001b[39m_getitem_multilevel(key)\n\u001b[1;32m-> 3505\u001b[0m indexer \u001b[38;5;241m=\u001b[39m \u001b[38;5;28;43mself\u001b[39;49m\u001b[38;5;241;43m.\u001b[39;49m\u001b[43mcolumns\u001b[49m\u001b[38;5;241;43m.\u001b[39;49m\u001b[43mget_loc\u001b[49m\u001b[43m(\u001b[49m\u001b[43mkey\u001b[49m\u001b[43m)\u001b[49m\n\u001b[0;32m   3506\u001b[0m \u001b[38;5;28;01mif\u001b[39;00m is_integer(indexer):\n\u001b[0;32m   3507\u001b[0m     indexer \u001b[38;5;241m=\u001b[39m [indexer]\n",
      "File \u001b[1;32m~\\anaconda3\\lib\\site-packages\\pandas\\core\\indexes\\base.py:3623\u001b[0m, in \u001b[0;36mIndex.get_loc\u001b[1;34m(self, key, method, tolerance)\u001b[0m\n\u001b[0;32m   3621\u001b[0m     \u001b[38;5;28;01mreturn\u001b[39;00m \u001b[38;5;28mself\u001b[39m\u001b[38;5;241m.\u001b[39m_engine\u001b[38;5;241m.\u001b[39mget_loc(casted_key)\n\u001b[0;32m   3622\u001b[0m \u001b[38;5;28;01mexcept\u001b[39;00m \u001b[38;5;167;01mKeyError\u001b[39;00m \u001b[38;5;28;01mas\u001b[39;00m err:\n\u001b[1;32m-> 3623\u001b[0m     \u001b[38;5;28;01mraise\u001b[39;00m \u001b[38;5;167;01mKeyError\u001b[39;00m(key) \u001b[38;5;28;01mfrom\u001b[39;00m \u001b[38;5;21;01merr\u001b[39;00m\n\u001b[0;32m   3624\u001b[0m \u001b[38;5;28;01mexcept\u001b[39;00m \u001b[38;5;167;01mTypeError\u001b[39;00m:\n\u001b[0;32m   3625\u001b[0m     \u001b[38;5;66;03m# If we have a listlike key, _check_indexing_error will raise\u001b[39;00m\n\u001b[0;32m   3626\u001b[0m     \u001b[38;5;66;03m#  InvalidIndexError. Otherwise we fall through and re-raise\u001b[39;00m\n\u001b[0;32m   3627\u001b[0m     \u001b[38;5;66;03m#  the TypeError.\u001b[39;00m\n\u001b[0;32m   3628\u001b[0m     \u001b[38;5;28mself\u001b[39m\u001b[38;5;241m.\u001b[39m_check_indexing_error(key)\n",
      "\u001b[1;31mKeyError\u001b[0m: 'Duration'"
     ]
    }
   ],
   "source": [
    "df['Duration_Hour']=df['Duration'].str.split(' ').str[0].str.split('h').str[0]"
   ]
  },
  {
   "cell_type": "code",
   "execution_count": 28,
   "id": "c3ae67f2",
   "metadata": {},
   "outputs": [],
   "source": [
    "#df['Duration_Hour']=df['Duration_Hour'].astype(int)"
   ]
  },
  {
   "cell_type": "code",
   "execution_count": 29,
   "id": "e6832fe6",
   "metadata": {},
   "outputs": [
    {
     "data": {
      "text/html": [
       "<div>\n",
       "<style scoped>\n",
       "    .dataframe tbody tr th:only-of-type {\n",
       "        vertical-align: middle;\n",
       "    }\n",
       "\n",
       "    .dataframe tbody tr th {\n",
       "        vertical-align: top;\n",
       "    }\n",
       "\n",
       "    .dataframe thead th {\n",
       "        text-align: right;\n",
       "    }\n",
       "</style>\n",
       "<table border=\"1\" class=\"dataframe\">\n",
       "  <thead>\n",
       "    <tr style=\"text-align: right;\">\n",
       "      <th></th>\n",
       "      <th>Airline</th>\n",
       "      <th>Source</th>\n",
       "      <th>Destination</th>\n",
       "      <th>Duration</th>\n",
       "      <th>Total_Stops</th>\n",
       "      <th>Additional_Info</th>\n",
       "      <th>Price</th>\n",
       "      <th>Date</th>\n",
       "      <th>Month</th>\n",
       "      <th>Year</th>\n",
       "      <th>arr_hour</th>\n",
       "      <th>arr_min</th>\n",
       "      <th>Dep_Hour</th>\n",
       "      <th>Dep_Min</th>\n",
       "      <th>Duration_Hour</th>\n",
       "    </tr>\n",
       "  </thead>\n",
       "  <tbody>\n",
       "    <tr>\n",
       "      <th>6474</th>\n",
       "      <td>Air India</td>\n",
       "      <td>Mumbai</td>\n",
       "      <td>Hyderabad</td>\n",
       "      <td>5m</td>\n",
       "      <td>2.0</td>\n",
       "      <td>No info</td>\n",
       "      <td>17327.0</td>\n",
       "      <td>6</td>\n",
       "      <td>3</td>\n",
       "      <td>2019</td>\n",
       "      <td>16</td>\n",
       "      <td>55</td>\n",
       "      <td>16</td>\n",
       "      <td>50</td>\n",
       "      <td>5m</td>\n",
       "    </tr>\n",
       "    <tr>\n",
       "      <th>2660</th>\n",
       "      <td>Air India</td>\n",
       "      <td>Mumbai</td>\n",
       "      <td>Hyderabad</td>\n",
       "      <td>5m</td>\n",
       "      <td>2.0</td>\n",
       "      <td>No info</td>\n",
       "      <td>NaN</td>\n",
       "      <td>12</td>\n",
       "      <td>3</td>\n",
       "      <td>2019</td>\n",
       "      <td>16</td>\n",
       "      <td>55</td>\n",
       "      <td>16</td>\n",
       "      <td>50</td>\n",
       "      <td>5m</td>\n",
       "    </tr>\n",
       "  </tbody>\n",
       "</table>\n",
       "</div>"
      ],
      "text/plain": [
       "        Airline  Source Destination Duration  Total_Stops Additional_Info  \\\n",
       "6474  Air India  Mumbai   Hyderabad       5m          2.0         No info   \n",
       "2660  Air India  Mumbai   Hyderabad       5m          2.0         No info   \n",
       "\n",
       "        Price  Date  Month  Year  arr_hour  arr_min  Dep_Hour  Dep_Min  \\\n",
       "6474  17327.0     6      3  2019        16       55        16       50   \n",
       "2660      NaN    12      3  2019        16       55        16       50   \n",
       "\n",
       "     Duration_Hour  \n",
       "6474            5m  \n",
       "2660            5m  "
      ]
     },
     "execution_count": 29,
     "metadata": {},
     "output_type": "execute_result"
    }
   ],
   "source": [
    "df[df['Duration_Hour']=='5m']"
   ]
  },
  {
   "cell_type": "markdown",
   "id": "fecfb7d1",
   "metadata": {},
   "source": [
    "1. From Mumbai to Hyderabad duration is 5mins and Total_Stops is 2\n",
    "2. The data seems like incorrect. So will drop these records based on index"
   ]
  },
  {
   "cell_type": "code",
   "execution_count": 30,
   "id": "4825188f",
   "metadata": {},
   "outputs": [
    {
     "data": {
      "text/plain": [
       "(13354, 15)"
      ]
     },
     "execution_count": 30,
     "metadata": {},
     "output_type": "execute_result"
    }
   ],
   "source": [
    "df.shape"
   ]
  },
  {
   "cell_type": "code",
   "execution_count": 31,
   "id": "f6e83f56",
   "metadata": {},
   "outputs": [],
   "source": [
    "df.drop(index=[6474,2660],inplace=True)"
   ]
  },
  {
   "cell_type": "code",
   "execution_count": 32,
   "id": "7112abea",
   "metadata": {},
   "outputs": [],
   "source": [
    "df['Duration_Hour']=df['Duration_Hour'].astype(int)"
   ]
  },
  {
   "cell_type": "code",
   "execution_count": 33,
   "id": "b998bb67",
   "metadata": {},
   "outputs": [],
   "source": [
    "df['Duration_Hour']=df['Duration_Hour']*60"
   ]
  },
  {
   "cell_type": "code",
   "execution_count": 34,
   "id": "fee25fec",
   "metadata": {},
   "outputs": [],
   "source": [
    "df['Duration_min']=df['Duration'].str.split(' ').str[1].str.split('m').str[0]"
   ]
  },
  {
   "cell_type": "code",
   "execution_count": 35,
   "id": "2848a2c8",
   "metadata": {
    "scrolled": true
   },
   "outputs": [],
   "source": [
    "df['Duration_min']=df['Duration_min'].fillna(0)"
   ]
  },
  {
   "cell_type": "code",
   "execution_count": 36,
   "id": "160fd875",
   "metadata": {},
   "outputs": [
    {
     "data": {
      "text/html": [
       "<div>\n",
       "<style scoped>\n",
       "    .dataframe tbody tr th:only-of-type {\n",
       "        vertical-align: middle;\n",
       "    }\n",
       "\n",
       "    .dataframe tbody tr th {\n",
       "        vertical-align: top;\n",
       "    }\n",
       "\n",
       "    .dataframe thead th {\n",
       "        text-align: right;\n",
       "    }\n",
       "</style>\n",
       "<table border=\"1\" class=\"dataframe\">\n",
       "  <thead>\n",
       "    <tr style=\"text-align: right;\">\n",
       "      <th></th>\n",
       "      <th>Airline</th>\n",
       "      <th>Source</th>\n",
       "      <th>Destination</th>\n",
       "      <th>Duration</th>\n",
       "      <th>Total_Stops</th>\n",
       "      <th>Additional_Info</th>\n",
       "      <th>Price</th>\n",
       "      <th>Date</th>\n",
       "      <th>Month</th>\n",
       "      <th>Year</th>\n",
       "      <th>arr_hour</th>\n",
       "      <th>arr_min</th>\n",
       "      <th>Dep_Hour</th>\n",
       "      <th>Dep_Min</th>\n",
       "      <th>Duration_Hour</th>\n",
       "      <th>Duration_min</th>\n",
       "    </tr>\n",
       "  </thead>\n",
       "  <tbody>\n",
       "  </tbody>\n",
       "</table>\n",
       "</div>"
      ],
      "text/plain": [
       "Empty DataFrame\n",
       "Columns: [Airline, Source, Destination, Duration, Total_Stops, Additional_Info, Price, Date, Month, Year, arr_hour, arr_min, Dep_Hour, Dep_Min, Duration_Hour, Duration_min]\n",
       "Index: []"
      ]
     },
     "execution_count": 36,
     "metadata": {},
     "output_type": "execute_result"
    }
   ],
   "source": [
    "df[df['Duration_min'].isnull()]"
   ]
  },
  {
   "cell_type": "code",
   "execution_count": 37,
   "id": "3646ef03",
   "metadata": {},
   "outputs": [],
   "source": [
    "df['Duration_min']=df['Duration_min'].astype(int)"
   ]
  },
  {
   "cell_type": "code",
   "execution_count": 38,
   "id": "22737fe6",
   "metadata": {},
   "outputs": [],
   "source": [
    "df['Duration_new']=df['Duration_Hour']+df['Duration_min']"
   ]
  },
  {
   "cell_type": "code",
   "execution_count": 39,
   "id": "5db51ae0",
   "metadata": {},
   "outputs": [
    {
     "data": {
      "text/plain": [
       "0        170\n",
       "1        445\n",
       "2       1140\n",
       "3        325\n",
       "4        285\n",
       "        ... \n",
       "2666    1435\n",
       "2667     155\n",
       "2668     395\n",
       "2669     915\n",
       "2670     860\n",
       "Name: Duration_new, Length: 13351, dtype: int32"
      ]
     },
     "execution_count": 39,
     "metadata": {},
     "output_type": "execute_result"
    }
   ],
   "source": [
    "df['Duration_new']"
   ]
  },
  {
   "cell_type": "markdown",
   "id": "f7b8515e",
   "metadata": {},
   "source": [
    "1. Droping newly created columns and Duration column also"
   ]
  },
  {
   "cell_type": "code",
   "execution_count": 40,
   "id": "4bbd9891",
   "metadata": {},
   "outputs": [],
   "source": [
    "df.drop(columns=['Duration_Hour','Duration_min','Duration'],inplace=True)"
   ]
  },
  {
   "cell_type": "code",
   "execution_count": 41,
   "id": "164867c1",
   "metadata": {},
   "outputs": [
    {
     "name": "stdout",
     "output_type": "stream",
     "text": [
      "<class 'pandas.core.frame.DataFrame'>\n",
      "Int64Index: 13351 entries, 0 to 2670\n",
      "Data columns (total 14 columns):\n",
      " #   Column           Non-Null Count  Dtype  \n",
      "---  ------           --------------  -----  \n",
      " 0   Airline          13351 non-null  object \n",
      " 1   Source           13351 non-null  object \n",
      " 2   Destination      13351 non-null  object \n",
      " 3   Total_Stops      13351 non-null  float64\n",
      " 4   Additional_Info  13351 non-null  object \n",
      " 5   Price            10681 non-null  float64\n",
      " 6   Date             13351 non-null  int32  \n",
      " 7   Month            13351 non-null  int32  \n",
      " 8   Year             13351 non-null  int32  \n",
      " 9   arr_hour         13351 non-null  int32  \n",
      " 10  arr_min          13351 non-null  int32  \n",
      " 11  Dep_Hour         13351 non-null  int32  \n",
      " 12  Dep_Min          13351 non-null  int32  \n",
      " 13  Duration_new     13351 non-null  int32  \n",
      "dtypes: float64(2), int32(8), object(4)\n",
      "memory usage: 1.1+ MB\n"
     ]
    }
   ],
   "source": [
    "df.info()"
   ]
  },
  {
   "cell_type": "code",
   "execution_count": 42,
   "id": "e73a716f",
   "metadata": {},
   "outputs": [
    {
     "data": {
      "text/plain": [
       "array(['IndiGo', 'Air India', 'Jet Airways', 'SpiceJet',\n",
       "       'Multiple carriers', 'GoAir', 'Vistara', 'Air Asia',\n",
       "       'Vistara Premium economy', 'Jet Airways Business',\n",
       "       'Multiple carriers Premium economy', 'Trujet'], dtype=object)"
      ]
     },
     "execution_count": 42,
     "metadata": {},
     "output_type": "execute_result"
    }
   ],
   "source": [
    "df.Airline.unique()"
   ]
  },
  {
   "cell_type": "code",
   "execution_count": 43,
   "id": "63141516",
   "metadata": {},
   "outputs": [
    {
     "data": {
      "text/plain": [
       "Delhi       5681\n",
       "Kolkata     3581\n",
       "Banglore    2752\n",
       "Mumbai       881\n",
       "Chennai      456\n",
       "Name: Source, dtype: int64"
      ]
     },
     "execution_count": 43,
     "metadata": {},
     "output_type": "execute_result"
    }
   ],
   "source": [
    "df.Source.value_counts()"
   ]
  },
  {
   "cell_type": "code",
   "execution_count": 44,
   "id": "57590a28",
   "metadata": {},
   "outputs": [
    {
     "data": {
      "text/plain": [
       "Cochin       5681\n",
       "Banglore     3581\n",
       "Delhi        1582\n",
       "New Delhi    1170\n",
       "Hyderabad     881\n",
       "Kolkata       456\n",
       "Name: Destination, dtype: int64"
      ]
     },
     "execution_count": 44,
     "metadata": {},
     "output_type": "execute_result"
    }
   ],
   "source": [
    "df.Destination.value_counts()"
   ]
  },
  {
   "cell_type": "code",
   "execution_count": 45,
   "id": "a0d0e106",
   "metadata": {},
   "outputs": [
    {
     "data": {
      "text/plain": [
       "Source    Destination\n",
       "Delhi     Cochin         5681\n",
       "Kolkata   Banglore       3581\n",
       "Banglore  Delhi          1582\n",
       "          New Delhi      1170\n",
       "Mumbai    Hyderabad       881\n",
       "Chennai   Kolkata         456\n",
       "dtype: int64"
      ]
     },
     "execution_count": 45,
     "metadata": {},
     "output_type": "execute_result"
    }
   ],
   "source": [
    "df[['Source','Destination']].value_counts()"
   ]
  },
  {
   "cell_type": "markdown",
   "id": "e7333be1",
   "metadata": {},
   "source": [
    "Here Destination contain both Delhi and New Delhi"
   ]
  },
  {
   "cell_type": "code",
   "execution_count": 46,
   "id": "556b91ef",
   "metadata": {},
   "outputs": [
    {
     "data": {
      "text/html": [
       "<div>\n",
       "<style scoped>\n",
       "    .dataframe tbody tr th:only-of-type {\n",
       "        vertical-align: middle;\n",
       "    }\n",
       "\n",
       "    .dataframe tbody tr th {\n",
       "        vertical-align: top;\n",
       "    }\n",
       "\n",
       "    .dataframe thead th {\n",
       "        text-align: right;\n",
       "    }\n",
       "</style>\n",
       "<table border=\"1\" class=\"dataframe\">\n",
       "  <thead>\n",
       "    <tr style=\"text-align: right;\">\n",
       "      <th></th>\n",
       "      <th>Airline</th>\n",
       "      <th>Source</th>\n",
       "      <th>Destination</th>\n",
       "      <th>Total_Stops</th>\n",
       "      <th>Additional_Info</th>\n",
       "      <th>Price</th>\n",
       "      <th>Date</th>\n",
       "      <th>Month</th>\n",
       "      <th>Year</th>\n",
       "      <th>arr_hour</th>\n",
       "      <th>arr_min</th>\n",
       "      <th>Dep_Hour</th>\n",
       "      <th>Dep_Min</th>\n",
       "      <th>Duration_new</th>\n",
       "    </tr>\n",
       "  </thead>\n",
       "  <tbody>\n",
       "    <tr>\n",
       "      <th>0</th>\n",
       "      <td>IndiGo</td>\n",
       "      <td>Banglore</td>\n",
       "      <td>New Delhi</td>\n",
       "      <td>0.0</td>\n",
       "      <td>No info</td>\n",
       "      <td>3897.0</td>\n",
       "      <td>24</td>\n",
       "      <td>3</td>\n",
       "      <td>2019</td>\n",
       "      <td>1</td>\n",
       "      <td>10</td>\n",
       "      <td>22</td>\n",
       "      <td>20</td>\n",
       "      <td>170</td>\n",
       "    </tr>\n",
       "    <tr>\n",
       "      <th>4</th>\n",
       "      <td>IndiGo</td>\n",
       "      <td>Banglore</td>\n",
       "      <td>New Delhi</td>\n",
       "      <td>1.0</td>\n",
       "      <td>No info</td>\n",
       "      <td>13302.0</td>\n",
       "      <td>1</td>\n",
       "      <td>3</td>\n",
       "      <td>2019</td>\n",
       "      <td>21</td>\n",
       "      <td>35</td>\n",
       "      <td>16</td>\n",
       "      <td>50</td>\n",
       "      <td>285</td>\n",
       "    </tr>\n",
       "    <tr>\n",
       "      <th>6</th>\n",
       "      <td>Jet Airways</td>\n",
       "      <td>Banglore</td>\n",
       "      <td>New Delhi</td>\n",
       "      <td>1.0</td>\n",
       "      <td>In-flight meal not included</td>\n",
       "      <td>11087.0</td>\n",
       "      <td>12</td>\n",
       "      <td>3</td>\n",
       "      <td>2019</td>\n",
       "      <td>10</td>\n",
       "      <td>25</td>\n",
       "      <td>18</td>\n",
       "      <td>55</td>\n",
       "      <td>930</td>\n",
       "    </tr>\n",
       "    <tr>\n",
       "      <th>7</th>\n",
       "      <td>Jet Airways</td>\n",
       "      <td>Banglore</td>\n",
       "      <td>New Delhi</td>\n",
       "      <td>1.0</td>\n",
       "      <td>No info</td>\n",
       "      <td>22270.0</td>\n",
       "      <td>1</td>\n",
       "      <td>3</td>\n",
       "      <td>2019</td>\n",
       "      <td>5</td>\n",
       "      <td>5</td>\n",
       "      <td>8</td>\n",
       "      <td>0</td>\n",
       "      <td>1265</td>\n",
       "    </tr>\n",
       "    <tr>\n",
       "      <th>8</th>\n",
       "      <td>Jet Airways</td>\n",
       "      <td>Banglore</td>\n",
       "      <td>New Delhi</td>\n",
       "      <td>1.0</td>\n",
       "      <td>In-flight meal not included</td>\n",
       "      <td>11087.0</td>\n",
       "      <td>12</td>\n",
       "      <td>3</td>\n",
       "      <td>2019</td>\n",
       "      <td>10</td>\n",
       "      <td>25</td>\n",
       "      <td>8</td>\n",
       "      <td>55</td>\n",
       "      <td>1530</td>\n",
       "    </tr>\n",
       "  </tbody>\n",
       "</table>\n",
       "</div>"
      ],
      "text/plain": [
       "       Airline    Source Destination  Total_Stops  \\\n",
       "0       IndiGo  Banglore   New Delhi          0.0   \n",
       "4       IndiGo  Banglore   New Delhi          1.0   \n",
       "6  Jet Airways  Banglore   New Delhi          1.0   \n",
       "7  Jet Airways  Banglore   New Delhi          1.0   \n",
       "8  Jet Airways  Banglore   New Delhi          1.0   \n",
       "\n",
       "               Additional_Info    Price  Date  Month  Year  arr_hour  arr_min  \\\n",
       "0                      No info   3897.0    24      3  2019         1       10   \n",
       "4                      No info  13302.0     1      3  2019        21       35   \n",
       "6  In-flight meal not included  11087.0    12      3  2019        10       25   \n",
       "7                      No info  22270.0     1      3  2019         5        5   \n",
       "8  In-flight meal not included  11087.0    12      3  2019        10       25   \n",
       "\n",
       "   Dep_Hour  Dep_Min  Duration_new  \n",
       "0        22       20           170  \n",
       "4        16       50           285  \n",
       "6        18       55           930  \n",
       "7         8        0          1265  \n",
       "8         8       55          1530  "
      ]
     },
     "execution_count": 46,
     "metadata": {},
     "output_type": "execute_result"
    }
   ],
   "source": [
    "df[df['Destination']=='New Delhi'].head()"
   ]
  },
  {
   "cell_type": "code",
   "execution_count": 47,
   "id": "302e4319",
   "metadata": {},
   "outputs": [
    {
     "data": {
      "text/plain": [
       "array(['No info', 'In-flight meal not included',\n",
       "       'No check-in baggage included', '1 Short layover', 'No Info',\n",
       "       '1 Long layover', 'Change airports', 'Business class',\n",
       "       'Red-eye flight', '2 Long layover'], dtype=object)"
      ]
     },
     "execution_count": 47,
     "metadata": {},
     "output_type": "execute_result"
    }
   ],
   "source": [
    "df.Additional_Info.unique()"
   ]
  },
  {
   "cell_type": "code",
   "execution_count": 48,
   "id": "6caa980f",
   "metadata": {},
   "outputs": [],
   "source": [
    "df.Additional_Info.replace('No Info','No info',inplace=True)"
   ]
  },
  {
   "cell_type": "code",
   "execution_count": 49,
   "id": "15121d7b",
   "metadata": {},
   "outputs": [
    {
     "data": {
      "text/plain": [
       "array(['No info', 'In-flight meal not included',\n",
       "       'No check-in baggage included', '1 Short layover',\n",
       "       '1 Long layover', 'Change airports', 'Business class',\n",
       "       'Red-eye flight', '2 Long layover'], dtype=object)"
      ]
     },
     "execution_count": 49,
     "metadata": {},
     "output_type": "execute_result"
    }
   ],
   "source": [
    "df.Additional_Info.unique()"
   ]
  },
  {
   "cell_type": "markdown",
   "id": "c167f774",
   "metadata": {},
   "source": [
    "### Lets perform One hot encoding or Getdummy on Airline, Source, Destination and Additional_info"
   ]
  },
  {
   "cell_type": "code",
   "execution_count": 50,
   "id": "b973d36a",
   "metadata": {},
   "outputs": [],
   "source": [
    "df=pd.get_dummies(data=df,columns=['Airline','Source','Destination','Additional_Info'],drop_first=True)"
   ]
  },
  {
   "cell_type": "code",
   "execution_count": 51,
   "id": "a7a66c94",
   "metadata": {},
   "outputs": [
    {
     "name": "stdout",
     "output_type": "stream",
     "text": [
      "<class 'pandas.core.frame.DataFrame'>\n",
      "Int64Index: 13351 entries, 0 to 2670\n",
      "Data columns (total 38 columns):\n",
      " #   Column                                        Non-Null Count  Dtype  \n",
      "---  ------                                        --------------  -----  \n",
      " 0   Total_Stops                                   13351 non-null  float64\n",
      " 1   Price                                         10681 non-null  float64\n",
      " 2   Date                                          13351 non-null  int32  \n",
      " 3   Month                                         13351 non-null  int32  \n",
      " 4   Year                                          13351 non-null  int32  \n",
      " 5   arr_hour                                      13351 non-null  int32  \n",
      " 6   arr_min                                       13351 non-null  int32  \n",
      " 7   Dep_Hour                                      13351 non-null  int32  \n",
      " 8   Dep_Min                                       13351 non-null  int32  \n",
      " 9   Duration_new                                  13351 non-null  int32  \n",
      " 10  Airline_Air India                             13351 non-null  uint8  \n",
      " 11  Airline_GoAir                                 13351 non-null  uint8  \n",
      " 12  Airline_IndiGo                                13351 non-null  uint8  \n",
      " 13  Airline_Jet Airways                           13351 non-null  uint8  \n",
      " 14  Airline_Jet Airways Business                  13351 non-null  uint8  \n",
      " 15  Airline_Multiple carriers                     13351 non-null  uint8  \n",
      " 16  Airline_Multiple carriers Premium economy     13351 non-null  uint8  \n",
      " 17  Airline_SpiceJet                              13351 non-null  uint8  \n",
      " 18  Airline_Trujet                                13351 non-null  uint8  \n",
      " 19  Airline_Vistara                               13351 non-null  uint8  \n",
      " 20  Airline_Vistara Premium economy               13351 non-null  uint8  \n",
      " 21  Source_Chennai                                13351 non-null  uint8  \n",
      " 22  Source_Delhi                                  13351 non-null  uint8  \n",
      " 23  Source_Kolkata                                13351 non-null  uint8  \n",
      " 24  Source_Mumbai                                 13351 non-null  uint8  \n",
      " 25  Destination_Cochin                            13351 non-null  uint8  \n",
      " 26  Destination_Delhi                             13351 non-null  uint8  \n",
      " 27  Destination_Hyderabad                         13351 non-null  uint8  \n",
      " 28  Destination_Kolkata                           13351 non-null  uint8  \n",
      " 29  Destination_New Delhi                         13351 non-null  uint8  \n",
      " 30  Additional_Info_1 Short layover               13351 non-null  uint8  \n",
      " 31  Additional_Info_2 Long layover                13351 non-null  uint8  \n",
      " 32  Additional_Info_Business class                13351 non-null  uint8  \n",
      " 33  Additional_Info_Change airports               13351 non-null  uint8  \n",
      " 34  Additional_Info_In-flight meal not included   13351 non-null  uint8  \n",
      " 35  Additional_Info_No check-in baggage included  13351 non-null  uint8  \n",
      " 36  Additional_Info_No info                       13351 non-null  uint8  \n",
      " 37  Additional_Info_Red-eye flight                13351 non-null  uint8  \n",
      "dtypes: float64(2), int32(8), uint8(28)\n",
      "memory usage: 1.1 MB\n"
     ]
    }
   ],
   "source": [
    "df.info()"
   ]
  },
  {
   "cell_type": "code",
   "execution_count": 52,
   "id": "fe544f15",
   "metadata": {},
   "outputs": [
    {
     "data": {
      "text/plain": [
       "((10681, 38), (2670, 38))"
      ]
     },
     "execution_count": 52,
     "metadata": {},
     "output_type": "execute_result"
    }
   ],
   "source": [
    "train=df[~df['Price'].isnull()]\n",
    "test=df[df['Price'].isnull()]\n",
    "\n",
    "train.shape, test.shape"
   ]
  },
  {
   "cell_type": "code",
   "execution_count": 53,
   "id": "84ab9e01",
   "metadata": {},
   "outputs": [
    {
     "data": {
      "text/plain": [
       "((10681, 37), (10681,))"
      ]
     },
     "execution_count": 53,
     "metadata": {},
     "output_type": "execute_result"
    }
   ],
   "source": [
    "X=train.loc[:,train.columns != 'Price']\n",
    "y=train['Price']\n",
    "X.shape, y.shape"
   ]
  },
  {
   "cell_type": "code",
   "execution_count": 54,
   "id": "8517e9e9",
   "metadata": {},
   "outputs": [],
   "source": [
    "from sklearn.model_selection import train_test_split\n",
    "\n",
    "X_train,X_test, y_train, y_test = train_test_split(X,y)"
   ]
  },
  {
   "cell_type": "code",
   "execution_count": 55,
   "id": "deaaf335",
   "metadata": {},
   "outputs": [
    {
     "data": {
      "text/plain": [
       "((8010, 37), (2671, 37), (8010,), (2671,))"
      ]
     },
     "execution_count": 55,
     "metadata": {},
     "output_type": "execute_result"
    }
   ],
   "source": [
    "X_train.shape, X_test.shape, y_train.shape, y_test.shape"
   ]
  },
  {
   "cell_type": "code",
   "execution_count": 56,
   "id": "7491ce54",
   "metadata": {},
   "outputs": [
    {
     "data": {
      "text/plain": [
       "LinearRegression()"
      ]
     },
     "execution_count": 56,
     "metadata": {},
     "output_type": "execute_result"
    }
   ],
   "source": [
    "from sklearn.linear_model import LinearRegression\n",
    "\n",
    "lr = LinearRegression()\n",
    "lr.fit(X_train,y_train)"
   ]
  },
  {
   "cell_type": "code",
   "execution_count": 57,
   "id": "04682477",
   "metadata": {},
   "outputs": [
    {
     "data": {
      "text/plain": [
       "array([ 9513.22412759,  9207.68086705,  9453.75196658, ...,\n",
       "       14868.43684085,  4451.3170379 ,  9416.23180626])"
      ]
     },
     "execution_count": 57,
     "metadata": {},
     "output_type": "execute_result"
    }
   ],
   "source": [
    "y_predict = lr.predict(X_test)\n",
    "y_predict"
   ]
  },
  {
   "cell_type": "code",
   "execution_count": 58,
   "id": "622669ac",
   "metadata": {},
   "outputs": [
    {
     "data": {
      "text/plain": [
       "(array([ 2.36232012e+03, -6.64012587e+01, -3.60209373e+02,  3.42020030e-08,\n",
       "        -1.47871854e+01,  2.26446433e+00,  1.97363103e+01, -3.18928422e+00,\n",
       "         2.57770847e-01,  1.79817365e+03,  1.87024098e+02,  3.65567333e+02,\n",
       "         6.27730568e+03,  3.83356593e+04,  4.14303059e+03,  4.22281300e+03,\n",
       "        -1.48993177e+02, -1.98486799e+03,  2.26712424e+03,  3.18339124e+03,\n",
       "        -2.82404835e+01,  1.60965318e+02,  1.53253366e+02, -8.68788618e+02,\n",
       "         1.60965318e+02, -9.28519281e+02, -8.68788618e+02, -2.82404835e+01,\n",
       "         1.51132970e+03,  5.94058578e+03,  9.09494702e-13,  1.59953044e+04,\n",
       "        -3.63589778e+03, -1.06934060e+04, -7.31921315e+03, -7.09524237e+03,\n",
       "        -3.87592372e+03]),\n",
       " 13974.817833022784)"
      ]
     },
     "execution_count": 58,
     "metadata": {},
     "output_type": "execute_result"
    }
   ],
   "source": [
    "w = lr.coef_\n",
    "b = lr.intercept_\n",
    "w,b"
   ]
  },
  {
   "cell_type": "code",
   "execution_count": 59,
   "id": "7be96924",
   "metadata": {},
   "outputs": [
    {
     "data": {
      "text/plain": [
       "0.6762478183042628"
      ]
     },
     "execution_count": 59,
     "metadata": {},
     "output_type": "execute_result"
    }
   ],
   "source": [
    "lr.score(X_test,y_test)"
   ]
  },
  {
   "cell_type": "code",
   "execution_count": null,
   "id": "1f74aee4",
   "metadata": {},
   "outputs": [],
   "source": []
  }
 ],
 "metadata": {
  "kernelspec": {
   "display_name": "Python 3 (ipykernel)",
   "language": "python",
   "name": "python3"
  },
  "language_info": {
   "codemirror_mode": {
    "name": "ipython",
    "version": 3
   },
   "file_extension": ".py",
   "mimetype": "text/x-python",
   "name": "python",
   "nbconvert_exporter": "python",
   "pygments_lexer": "ipython3",
   "version": "3.9.12"
  }
 },
 "nbformat": 4,
 "nbformat_minor": 5
}
